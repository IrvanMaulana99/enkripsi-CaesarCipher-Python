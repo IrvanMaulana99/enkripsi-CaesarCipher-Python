{
  "nbformat": 4,
  "nbformat_minor": 0,
  "metadata": {
    "colab": {
      "name": "Enkripsi Caesar Cipher.ipynb",
      "provenance": [],
      "collapsed_sections": [],
      "authorship_tag": "ABX9TyN/XtVwcLxMut51dT8dYgg0",
      "include_colab_link": true
    },
    "kernelspec": {
      "name": "python3",
      "display_name": "Python 3"
    },
    "language_info": {
      "name": "python"
    }
  },
  "cells": [
    {
      "cell_type": "markdown",
      "metadata": {
        "id": "view-in-github",
        "colab_type": "text"
      },
      "source": [
        "<a href=\"https://colab.research.google.com/github/IrvanMaulana99/enkripsi-CaesarCipher-Python/blob/main/Enkripsi_Caesar_Cipher.ipynb\" target=\"_parent\"><img src=\"https://colab.research.google.com/assets/colab-badge.svg\" alt=\"Open In Colab\"/></a>"
      ]
    },
    {
      "cell_type": "markdown",
      "metadata": {
        "id": "Wx8otTklhbJ-"
      },
      "source": [
        "# ETHICAL HACKING - KELOMPOK 4\n",
        "====================================================+\n",
        "## TIF - RP 18 CNS A - Enkripsi Caesar Cipher\n",
        "====================================================+\n",
        "### Anggota :\n",
        "\n",
        "1.18111015 - Andika Rama\n",
        "\n",
        "\n",
        "2.18111042 - Eli Siti Solihah\n",
        "\n",
        "\n",
        "3.18111167 - Irvan Maulana\n",
        "\n",
        "\n",
        "4.18111143 - Rivania Rohana\n",
        "\n",
        "\n",
        "5.18111174 - Yulianto Herlambang\n",
        "\n",
        "--------------------------------"
      ]
    },
    {
      "cell_type": "code",
      "metadata": {
        "colab": {
          "base_uri": "https://localhost:8080/"
        },
        "id": "trC8kicvXXqT",
        "outputId": "3f543456-fc17-44e2-ca73-df6b575f24ea"
      },
      "source": [
        "# enkripsi caesar cipher - Python - Kelompok 4 - Google Colab\n",
        "# definisikan fungsi dan variabel\n",
        "def caesar_cipher(pesan, shift, arah):\n",
        "  # jawaban\n",
        "  hasil_pesan='' \n",
        "  if arah=='decode':\n",
        "    shift*=-1\n",
        "  for char in pesan:\n",
        "    # jika input huruf besar maka gunakan nilai dari code ASCII Dengan value dari 65 = A sampai 90 = Z.\n",
        "    # ord = konversi string ke ASCII \n",
        "    # chr = konversi dari ASCII ke string\n",
        "    # jika input = huruf besar \n",
        "    if char.isupper():\n",
        "      # hitung jumlah pergeseran, nilai ASCII dari input + perpindahan kata - Nilai ASCII dari A = 65.\n",
        "      shift_amount=ord(char)+shift-65\n",
        "      # shift_amount%26 = memastikan nilai perpindahan diantara nilai 0-26 (alfabet)\n",
        "      hasil_pesan+=chr(shift_amount%26+65)\n",
        "      # jika inputan memiliki spasi dan nomor maka tidak diubah nilai spasi dan nomornya.\n",
        "    elif char.isspace() or char.isdigit():\n",
        "      hasil_pesan+=char\n",
        "    # enkripsi\n",
        "    else:\n",
        "      hasil_pesan+=chr((ord(char)+shift-97)%26+97)\n",
        "  # output pesan hasil decode\n",
        "  print(f'hasil pesan yang di {arah} = {hasil_pesan}')\n",
        "\n",
        "end=False\n",
        "while not end:\n",
        "  # dialog input\n",
        "  # input untuk memilih encode = enkripsi atau decode = dekripsi.\n",
        "  direction=input('Ketik encode untuk enkripsi pesan dan decode untuk dekripsi pesan:\\n')\n",
        "  # dailog input\n",
        "  # input untuk memasukkan kata / pesan yang ingin diubah\n",
        "  pesan=input('Masukkan pesan / kata : ')\n",
        "  # dialog input\n",
        "  # nilai perpindahan didapat dari input dialog - harus nilai integer\n",
        "  shift=int(input('Pergeseran Kata : '))\n",
        "  caesar_cipher(pesan, shift, direction)\n",
        "  # dialog pesan\n",
        "  # menentukan program apa ingin diulang kembali atau tidak.\n",
        "  jalankan_kembali=input('Apakah ingin mencoba kembali? Ketik ya atau tidak \\n').lower()\n",
        "  # jika memilih input tidak , maka program akan berhenti.\n",
        "  if jalankan_kembali=='tidak':\n",
        "    end=True"
      ],
      "execution_count": null,
      "outputs": [
        {
          "output_type": "stream",
          "text": [
            "Ketik encode untuk enkripsi pesan dan decode untuk dekripsi pesan:\n",
            "encode\n",
            "Masukkan pesan / kata : irvan maulana\n",
            "Pergeseran Kata : 5\n",
            "hasil pesan yang di encode = nwafs rfzqfsf\n",
            "Apakah ingin mencoba kembali? Ketik ya atau tidak \n",
            "ya\n",
            "Ketik encode untuk enkripsi pesan dan decode untuk dekripsi pesan:\n",
            "decode\n",
            "Masukkan pesan / kata : nwafs rfzqfsf\n",
            "Pergeseran Kata : 5\n",
            "hasil pesan yang di decode = irvan maulana\n",
            "Apakah ingin mencoba kembali? Ketik ya atau tidak \n",
            "ya\n",
            "Ketik encode untuk enkripsi pesan dan decode untuk dekripsi pesan:\n",
            "encode\n",
            "Masukkan pesan / kata : ETHICAL HACKING KELOMPOK 4\n",
            "Pergeseran Kata : 7\n",
            "hasil pesan yang di encode = LAOPJHS OHJRPUN RLSVTWVR 4\n",
            "Apakah ingin mencoba kembali? Ketik ya atau tidak \n",
            "ya\n",
            "Ketik encode untuk enkripsi pesan dan decode untuk dekripsi pesan:\n",
            "decode\n",
            "Masukkan pesan / kata : LAOPJHS OHJRPUN RLSVTWVR 4\n",
            "Pergeseran Kata : 7\n",
            "hasil pesan yang di decode = ETHICAL HACKING KELOMPOK 4\n",
            "Apakah ingin mencoba kembali? Ketik ya atau tidak \n",
            "tidak\n"
          ],
          "name": "stdout"
        }
      ]
    }
  ]
}